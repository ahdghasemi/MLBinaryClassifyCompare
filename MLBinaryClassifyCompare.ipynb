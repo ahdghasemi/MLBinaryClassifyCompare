{
  "nbformat": 4,
  "nbformat_minor": 0,
  "metadata": {
    "colab": {
      "provenance": [],
      "machine_shape": "hm",
      "gpuClass": "premium"
    },
    "kernelspec": {
      "name": "python3",
      "display_name": "Python 3"
    },
    "language_info": {
      "name": "python"
    },
    "gpuClass": "premium"
  },
  "cells": [
    {
      "cell_type": "code",
      "source": [
        "from google.colab import drive\n",
        "drive.mount('/content/drive/', force_remount=True)"
      ],
      "metadata": {
        "colab": {
          "base_uri": "https://localhost:8080/"
        },
        "id": "U1xm1YIiSYaA",
        "outputId": "da5a2cff-c2c8-499a-9982-c89513d1fc97"
      },
      "execution_count": null,
      "outputs": [
        {
          "output_type": "stream",
          "name": "stdout",
          "text": [
            "Mounted at /content/drive/\n"
          ]
        }
      ]
    },
    {
      "cell_type": "code",
      "source": [
        "import pandas as pd\n",
        "import missingno as msno\n",
        "from sklearn.model_selection import train_test_split, cross_val_score\n",
        "from sklearn.metrics import precision_recall_fscore_support, accuracy_score\n",
        "from sklearn.neighbors import KNeighborsClassifier\n",
        "from sklearn.linear_model import LogisticRegression\n",
        "from sklearn.tree import DecisionTreeClassifier\n",
        "from sklearn.ensemble import RandomForestClassifier, GradientBoostingClassifier\n",
        "import matplotlib.pyplot as plt\n",
        "\n",
        "# [ Previous function definitions remain the same ]\n",
        "def load_and_process_data(file_path):\n",
        "    data = pd.read_csv(file_path)\n",
        "    mappings = {\n",
        "        'Gender': {'Male':0, 'Female':1},\n",
        "        'City': {'Dallas':0, 'New York City':1, 'Los Angeles':2, 'Mountain View':3,'Boston':4,\n",
        "                 'Washington D.C.':5, 'San Diego':6, 'Austin':7},\n",
        "        'Illness': {'No':0, 'Yes':1}\n",
        "    }\n",
        "    for col, mapping in mappings.items():\n",
        "        data[col] = data[col].map(mapping)\n",
        "    return data\n",
        "\n",
        "def visualize_missing_data(data):\n",
        "    msno.matrix(data)\n",
        "\n",
        "def train_evaluate_model(model, model_name, X_train, y_train, X_test, y_test, results):\n",
        "    model = train_model(model, X_train, y_train)\n",
        "    print(f\"\\n{model_name} Model Evaluation:\")\n",
        "    evaluate_model(model, X_test, y_test)\n",
        "\n",
        "    # Storing results for comparison\n",
        "    y_pred = model.predict(X_test)\n",
        "    accuracy = accuracy_score(y_test, y_pred)\n",
        "    results[model_name] = accuracy\n",
        "\n",
        "def compare_model_performance(results):\n",
        "    names = list(results.keys())\n",
        "    values = list(results.values())\n",
        "\n",
        "    plt.figure(figsize=(10, 5))\n",
        "    plt.bar(names, values, color=['blue', 'orange', 'green', 'red', 'purple'])\n",
        "    plt.xlabel('Model Name')\n",
        "    plt.ylabel('Accuracy')\n",
        "    plt.title('Model Performance Comparison')\n",
        "    plt.show()\n",
        "\n",
        "    # To use in Tableau: Save the results as a .csv file\n",
        "    pd.DataFrame(list(results.items()), columns=['Model', 'Accuracy']).to_csv('model_performance.csv', index=False)\n",
        "\n",
        "def main():\n",
        "    # [ Previous code in main function remains the same ]\n",
        "    FILE_PATH = '/content/drive/MyDrive/Colab Notebooks/Zobaed/simple_classification_or_regression.csv'  # Update your file path\n",
        "\n",
        "    # Load and Process Data\n",
        "    data = load_and_process_data(FILE_PATH)\n",
        "\n",
        "    # Visualize Missing Data\n",
        "    visualize_missing_data(data)\n",
        "\n",
        "    # Prepare Train-Test Data\n",
        "    features = data.iloc[:,1:4]\n",
        "    target = data['Illness']\n",
        "    X_train, X_test, y_train, y_test = train_test_split(features, target, test_size=0.33, random_state=42)\n",
        "\n",
        "    models = {\n",
        "        'KNN': KNeighborsClassifier(n_neighbors=2),\n",
        "        'Logistic Regression': LogisticRegression(random_state=0),\n",
        "        'Decision Tree': DecisionTreeClassifier(random_state=0),\n",
        "        'Random Forest': RandomForestClassifier(random_state=0),\n",
        "        'Gradient Boosting': GradientBoostingClassifier(random_state=0)\n",
        "    }\n",
        "\n",
        "    results = {}\n",
        "\n",
        "    for model_name, model_instance in models.items():\n",
        "        train_evaluate_model(model_instance, model_name, X_train, y_train, X_test, y_test, results)\n",
        "\n",
        "    compare_model_performance(results)\n",
        "\n",
        "if __name__ == \"__main__\":\n",
        "    main()\n"
      ],
      "metadata": {
        "id": "tZTKnsB3Keej"
      },
      "execution_count": null,
      "outputs": []
    }
  ]
}